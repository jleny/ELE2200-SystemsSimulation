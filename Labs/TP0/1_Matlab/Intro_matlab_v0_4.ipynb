{
 "cells": [
  {
   "cell_type": "markdown",
   "metadata": {},
   "source": [
    "# Introduction à MATLAB\n",
    "\n",
    "MATLAB (MATrix LABoratory) est un environnement de calcul numérique interactif et un language de programmation utilisé principalement pour des tâches de calcul et simulations scientifiques et techniques. Il a été initialement développé à la fin des années 70 par Cleve Moler (alors à l'université de New Mexico), qui souhaitait permettre à ses élèves d'utiliser les librairies d'algèbre linéaire numérique à un plus \"haut-niveau\" que par la programmation en Fortran. Le language a été ensuite rapidement adopté par les mathématiciens appliqués. En 1984, Moler fonde la société [MathWorks](http://www.mathworks.com/index.html?s_tid=gn_logo) avec Jack Little, un ingénieur automaticien, pour commercialiser MATLAB.\n",
    "\n",
    "\n",
    "## Exemples d'utilisation de Matlab\n",
    "\n",
    "MATLAB est une plate-forme très populaire pour des tâches comme:\n",
    "* Le développement et l'implémentation d'algorithmes numériques pour le calcul scientifique, l'algèbre linéaire, la simulation, etc., surtout en phase de *prototypage*.\n",
    "* la visualisation de données, le tracé de graphiques (2D, 3D, ...), la création d'interfaces utilisateurs\n",
    "* la modélisation sous forme  graphique (package supplémentaire **Simulink**) de systèmes physiques dynamiques interagissant avec des systèmes de calcul (avec possibilité de génération de code pour les algorithmes implémentés)\n",
    "* le développement de scripts pour interfacer des programmes écrits dans différents languages (C, C++, Fortran, etc.)\n",
    "* ...\n",
    "\n",
    "Un des avantages de cet environnement est la disponibilité de \"toolboxes\" implémentant de nombreux algorithmes spécifiques à des domaines particuliers: commande, traitement du signal et des images, vision par ordinateur, robotique, aérospatiale, EDP, communications, etc. Ces toolboxes peuvent être payantes (commercialisées par MathWorks ou autre), distribuées gratuitement, ou même open-source, surtout pour les toolboxes destinées à la recherche. La commande **`ver`** affiche les toolboxes disponibles sur votre système et leur version. "
   ]
  },
  {
   "cell_type": "code",
   "execution_count": 1,
   "metadata": {
    "collapsed": false
   },
   "outputs": [
    {
     "data": {
      "text/plain": [
       "----------------------------------------------------------------------------------------------------\n",
       "MATLAB Version: 8.5.0.197613 (R2015a)\n",
       "MATLAB License Number: 182831\n",
       "Operating System: Mac OS X  Version: 10.11.2 Build: 15C50 \n",
       "Java Version: Java 1.7.0_60-b19 with Oracle Corporation Java HotSpot(TM) 64-Bit Server VM mixed mode\n",
       "----------------------------------------------------------------------------------------------------\n",
       "MATLAB                                                Version 8.5        (R2015a)\n",
       "Simulink                                              Version 8.5        (R2015a)\n",
       "Aerospace Blockset                                    Version 3.15       (R2015a)\n",
       "Aerospace Toolbox                                     Version 2.15       (R2015a)\n",
       "Communications System Toolbox                         Version 6.0        (R2015a)\n",
       "Computer Vision System Toolbox                        Version 6.2        (R2015a)\n",
       "Control System Toolbox                                Version 9.9        (R2015a)\n",
       "Curve Fitting Toolbox                                 Version 3.5.1      (R2015a)\n",
       "DSP System Toolbox                                    Version 9.0        (R2015a)\n",
       "Database Toolbox                                      Version 5.2.1      (R2015a)\n",
       "Embedded Coder                                        Version 6.8        (R2015a)\n",
       "Fixed-Point Designer                                  Version 5.0        (R2015a)\n",
       "Fuzzy Logic Toolbox                                   Version 2.2.21     (R2015a)\n",
       "Global Optimization Toolbox                           Version 3.3.1      (R2015a)\n",
       "Image Acquisition Toolbox                             Version 4.9        (R2015a)\n",
       "Image Processing Toolbox                              Version 9.2        (R2015a)\n",
       "Instrument Control Toolbox                            Version 3.7        (R2015a)\n",
       "MATLAB Coder                                          Version 2.8        (R2015a)\n",
       "MATLAB Compiler                                       Version 6.0        (R2015a)\n",
       "MATLAB Compiler SDK                                   Version 6.0        (R2015a)\n",
       "MATLAB Report Generator                               Version 4.1        (R2015a)\n",
       "Mapping Toolbox                                       Version 4.1        (R2015a)\n",
       "Model Predictive Control Toolbox                      Version 5.0.1      (R2015a)\n",
       "Neural Network Toolbox                                Version 8.3        (R2015a)\n",
       "Optimization Toolbox                                  Version 7.2        (R2015a)\n",
       "Parallel Computing Toolbox                            Version 6.6        (R2015a)\n",
       "Partial Differential Equation Toolbox                 Version 2.0        (R2015a)\n",
       "RF Toolbox                                            Version 2.16       (R2015a)\n",
       "Robust Control Toolbox                                Version 5.3        (R2015a)\n",
       "Signal Processing Toolbox                             Version 7.0        (R2015a)\n",
       "SimEvents                                             Version 4.4        (R2015a)\n",
       "SimMechanics                                          Version 4.6        (R2015a)\n",
       "SimPowerSystems                                       Version 6.3        (R2015a)\n",
       "SimRF                                                 Version 4.4        (R2015a)\n",
       "Simscape                                              Version 3.13       (R2015a)\n",
       "Simulink 3D Animation                                 Version 7.3        (R2015a)\n",
       "Simulink Coder                                        Version 8.8        (R2015a)\n",
       "Simulink Control Design                               Version 4.2        (R2015a)\n",
       "Simulink Design Optimization                          Version 2.7        (R2015a)\n",
       "Simulink Design Verifier                              Version 2.8        (R2015a)\n",
       "Simulink Report Generator                             Version 4.1        (R2015a)\n",
       "Simulink Verification and Validation                  Version 3.9        (R2015a)\n",
       "Stateflow                                             Version 8.5        (R2015a)\n",
       "Statistics and Machine Learning Toolbox               Version 10.0       (R2015a)\n",
       "Symbolic Math Toolbox                                 Version 6.2        (R2015a)\n",
       "System Identification Toolbox                         Version 9.2        (R2015a)\n",
       "SystemTest                                            Version 2.6.9      (R2015a)\n",
       "Wavelet Toolbox                                       Version 4.14.1     (R2015a)"
      ]
     },
     "execution_count": 1,
     "metadata": {},
     "output_type": "execute_result"
    }
   ],
   "source": [
    "ver"
   ]
  },
  {
   "cell_type": "markdown",
   "metadata": {},
   "source": [
    "Toutefois, on notera que Matlab n'est pas toujours approprié pour l'implémentation définitive d'un système pour lequel on souhaite obtenir un maximum de performance. MATLAB est un language interprété relativement lent (en règle générale), et un processus de travail assez standard consiste à expérimenter et concevoir un système préliminaire sous MATLAB, puis à implémenter le système final dans un language compilé comme C ou C++. Il est aussi possible de *générer automatiquement du code C ou C++* à partir de Matlab, avec les toolbox Matlab/Simulink/Embedded Coder."
   ]
  },
  {
   "cell_type": "markdown",
   "metadata": {},
   "source": [
    "## Bases de MATLAB\n",
    "\n",
    "### Caractéristiques du language\n",
    "\n",
    "Voici quelques raisons qui peuvent expliquer le succès de MATLAB comme langage de prototypage rapide en sciences et technologie (et comme language d'enseignement)\n",
    "* c'est un language interprété, c'est-à-dire qu'évaluer votre code ne requiert pas d'étape de compilation"
   ]
  },
  {
   "cell_type": "code",
   "execution_count": 2,
   "metadata": {
    "collapsed": false
   },
   "outputs": [
    {
     "data": {
      "text/plain": [
       "x =\n",
       "\n",
       "     1\n",
       "\n",
       "\n",
       "a =\n",
       "\n",
       "     2\n",
       "\n",
       "\n",
       "b =\n",
       "\n",
       "     3\n",
       "\n",
       "\n",
       "y =\n",
       "\n",
       "     5"
      ]
     },
     "execution_count": 2,
     "metadata": {},
     "output_type": "execute_result"
    }
   ],
   "source": [
    "x = 1, a = 2, b = 3\n",
    "y = a*x+b"
   ]
  },
  {
   "cell_type": "markdown",
   "metadata": {},
   "source": [
    "* les types des données sont inférés automatiquement pour vous (à l'inverse du C par exemple), ce qui vous permet de vous concentrer sur le développement de vos algorithmes plutôt que sur le choix de types de bas niveau. En fait, et bien qu'il soit possible de forcer l'utilisation d'autres types (par exemple pour économiser de la mémoire), par défaut toutes les valeurs numériques sont stoquées par MATLAB en `double-precision floating point`. De plus, les *nombres complexes* sont traités par défault, il n'y a pas besoin d'introduire de librairie supplémentaire."
   ]
  },
  {
   "cell_type": "code",
   "execution_count": 3,
   "metadata": {
    "collapsed": false
   },
   "outputs": [
    {
     "data": {
      "text/plain": [
       "x =\n",
       "\n",
       "    1.3000\n",
       "\n",
       "\n",
       "x =\n",
       "\n",
       "bonjour\n",
       "\n",
       "\n",
       "x =\n",
       "\n",
       "     1\n",
       "\n",
       "\n",
       "x =\n",
       "\n",
       "   0.0000 + 1.0000i\n",
       "\n",
       "\n",
       "x =\n",
       "\n",
       "   2.0000 + 1.0000i"
      ]
     },
     "execution_count": 3,
     "metadata": {},
     "output_type": "execute_result"
    }
   ],
   "source": [
    "x = 1.3\n",
    "x = 'bonjour'\n",
    "x = true\n",
    "x = sqrt(-1)  % racine carrée\n",
    "x = 2+1i % autres notations possibles: 1+i, 1+j, 1+1j"
   ]
  },
  {
   "cell_type": "markdown",
   "metadata": {},
   "source": [
    "* Le calcul matriciel est implémenté par défaut."
   ]
  },
  {
   "cell_type": "code",
   "execution_count": 4,
   "metadata": {
    "collapsed": false
   },
   "outputs": [
    {
     "data": {
      "text/plain": [
       "B =\n",
       "\n",
       "     1     2\n",
       "     3     4\n",
       "\n",
       "\n",
       "C =\n",
       "\n",
       "     5\n",
       "     6\n",
       "\n",
       "\n",
       "ans =\n",
       "\n",
       "    17\n",
       "    39"
      ]
     },
     "execution_count": 4,
     "metadata": {},
     "output_type": "execute_result"
    }
   ],
   "source": [
    "B = [1 2;3 4]\n",
    "C = [5;6]\n",
    "B*C"
   ]
  },
  {
   "cell_type": "markdown",
   "metadata": {},
   "source": [
    "* il y a un grand nombre de fonctions avancées déjà implémentées, par défaut ou dans les toolbox. Ces implémentations sont généralement de (très) bonne qualité et utilisent des algorithmes performants et souvent sophistiqués, avec lesquels l'utilisateur n'a pas nécessairement besoin d'être familier (ex: quel est le meilleur moyen de résoudre un système $Ax = b$?)."
   ]
  },
  {
   "cell_type": "code",
   "execution_count": 5,
   "metadata": {
    "collapsed": false
   },
   "outputs": [
    {
     "data": {
      "text/plain": [
       "A =\n",
       "\n",
       "    0.5377    3.5784   -0.1241    0.4889   -1.0689   -0.1022\n",
       "    1.8339    2.7694    1.4897    1.0347   -0.8095   -0.2414\n",
       "   -2.2588   -1.3499    1.4090    0.7269   -2.9443    0.3192\n",
       "    0.8622    3.0349    1.4172   -0.3034    1.4384    0.3129\n",
       "    0.3188    0.7254    0.6715    0.2939    0.3252   -0.8649\n",
       "   -1.3077   -0.0631   -1.2075   -0.7873   -0.7549   -0.0301\n",
       "   -0.4336    0.7147    0.7172    0.8884    1.3703   -0.1649\n",
       "    0.3426   -0.2050    1.6302   -1.1471   -1.7115    0.6277\n",
       "\n",
       "\n",
       "b =\n",
       "\n",
       "    1.0933\n",
       "    1.1093\n",
       "   -0.8637\n",
       "    0.0774\n",
       "   -1.2141\n",
       "   -1.1135\n",
       "   -0.0068\n",
       "    1.5326\n",
       "\n",
       "\n",
       "x =\n",
       "\n",
       "    0.7763\n",
       "    0.0082\n",
       "   -0.1512\n",
       "    0.3380\n",
       "   -0.2133\n",
       "    1.6097"
      ]
     },
     "execution_count": 5,
     "metadata": {},
     "output_type": "execute_result"
    }
   ],
   "source": [
    "A = randn(8,6)    % génère des variables aléatoires Gaussiennes\n",
    "b = randn(8,1)\n",
    "x = A\\b  % résout A x = b - si A est carrée, éviter inv(A)!"
   ]
  },
  {
   "cell_type": "markdown",
   "metadata": {},
   "source": [
    "Attention: au démarrage de l'interpréteur, **`i`** et **`j`** dont définis comme le nombre complexe $\\sqrt{-1}$. Si vous les utilisez comme nom de variable et les redéfinissez, ils perdront bien évidemment cette valeur. Pour éviter les erreurs, je recommande l'utilisation des notations **`1i`** ou **`1j`**."
   ]
  },
  {
   "cell_type": "markdown",
   "metadata": {},
   "source": [
    "### Premiers pas"
   ]
  },
  {
   "cell_type": "markdown",
   "metadata": {},
   "source": [
    "Déclaration d'une matrice, sélection d'éléments, création de vecteurs, et commentaires. Attention, les **indices des tableaux dans MATLAB commencent à 1** (et non pas à 0 comme en C ou Python). "
   ]
  },
  {
   "cell_type": "code",
   "execution_count": 6,
   "metadata": {
    "collapsed": false,
    "scrolled": false
   },
   "outputs": [
    {
     "data": {
      "text/plain": [
       "A =\n",
       "\n",
       "     1     2     3     4     5\n",
       "     6     7     8     9    10\n",
       "    11    12    13    14    15\n",
       "\n",
       "\n",
       "s =\n",
       "\n",
       "     3     5\n",
       "\n",
       "\n",
       "v =\n",
       "\n",
       "     1     3     5     7\n",
       "\n",
       "\n",
       "b =\n",
       "\n",
       "    14\n",
       "\n",
       "\n",
       "ans =\n",
       "\n",
       "     6     7     8     9    10\n",
       "\n",
       "\n",
       "ans =\n",
       "\n",
       "     3\n",
       "     8\n",
       "    13\n",
       "\n",
       "\n",
       "ans =\n",
       "\n",
       "     8     9\n",
       "    13    14\n",
       "\n",
       "\n",
       "ans =\n",
       "\n",
       "     6     8    10\n",
       "    11    13    15\n",
       "\n",
       "\n",
       "ans =\n",
       "\n",
       "    11    13    15\n",
       "     1     3     5\n",
       "\n",
       "\n",
       "v1 =\n",
       "\n",
       "         0    0.2500    0.5000    0.7500    1.0000\n",
       "\n",
       "\n",
       "v2 =\n",
       "\n",
       "         0    0.2500    0.5000    0.7500    1.0000\n",
       "\n",
       "\n",
       "v3 =\n",
       "\n",
       "   10.0000   17.7828   31.6228   56.2341  100.0000"
      ]
     },
     "execution_count": 6,
     "metadata": {},
     "output_type": "execute_result"
    }
   ],
   "source": [
    "A=[1 2 3 4 5; 6 7 8 9 10; 11 12 13 14 15]\n",
    "B=[1,2,3,4,5;6,7,8,9,10;11,12,13,14,15];  % syntaxe équivalente avec virgule - le ; supprime l'affichage du résultat\n",
    "s = size(A)  % voir l'aide pour les fonctions size et length\n",
    "v = 1:2:7  % suite numérique avec saut de 2, stockée dans un vecteur ligne\n",
    "b = B(3,4)  % sélection d'un élément\n",
    "A(2,:)  % sélectrion de tous les éléments sur la 2ème ligne\n",
    "A(:,3)  % sélection de tous les éléments sur la 3ème colonne\n",
    "A(2:3,3:4)  % sélection d'un sous-ensemble d'indices à l'aide de vecteurs d'indices\n",
    "A(2:3,1:2:5)\n",
    "A([3 1],v(1:3))\n",
    "v1 = 0:0.25:1  % pas de 0.25\n",
    "v2 = linspace(0,1,5)  % 5 éléments de 0 à 1 espacés linéairement - v2 = v1\n",
    "v3 = logspace(1,2,5)  % espacement logarithmique entre 10^i1 et 10^i2"
   ]
  },
  {
   "cell_type": "markdown",
   "metadata": {},
   "source": [
    "L'interpréteur retourne une erreur d'indice lorsqu'il évalue une expression incorrecte."
   ]
  },
  {
   "cell_type": "code",
   "execution_count": 7,
   "metadata": {
    "collapsed": false
   },
   "outputs": [
    {
     "name": "stderr",
     "output_type": "stream",
     "text": [
      "Index exceeds matrix dimensions.\n"
     ]
    }
   ],
   "source": [
    "A([1 4],[1 2 4])"
   ]
  },
  {
   "cell_type": "markdown",
   "metadata": {
    "collapsed": false
   },
   "source": [
    "Création de certaines matrices élémentaires."
   ]
  },
  {
   "cell_type": "code",
   "execution_count": 8,
   "metadata": {
    "collapsed": false
   },
   "outputs": [
    {
     "data": {
      "text/plain": [
       "A =\n",
       "\n",
       "     1     0     0     0\n",
       "     0     1     0     0\n",
       "     0     0     1     0\n",
       "     0     0     0     1\n",
       "\n",
       "\n",
       "A =\n",
       "\n",
       "     0     0     0     0\n",
       "     0     0     0     0\n",
       "     0     0     0     0\n",
       "\n",
       "\n",
       "A =\n",
       "\n",
       "     0     0     0\n",
       "     0     0     0\n",
       "     0     0     0\n",
       "\n",
       "\n",
       "A =\n",
       "\n",
       "     1     1     1\n",
       "     1     1     1\n",
       "     1     1     1\n",
       "\n",
       "\n",
       "A =\n",
       "\n",
       "     1     1     1\n",
       "     1     1     1\n",
       "\n",
       "\n",
       "A =\n",
       "\n",
       "    0.3404    0.7513    0.6991    0.5472\n",
       "    0.5853    0.2551    0.8909    0.1386\n",
       "    0.2238    0.5060    0.9593    0.1493"
      ]
     },
     "execution_count": 8,
     "metadata": {},
     "output_type": "execute_result"
    }
   ],
   "source": [
    "A = eye(4)  % identité\n",
    "A = zeros(3,4)  \n",
    "A = zeros(3)  % Attention, même chose que zeros(3,3)\n",
    "A = ones(3)  % Attention, même chose que ones(3,3)\n",
    "A = ones(2,3)\n",
    "A = rand(3,4)  % variables aléatoires uniformes entre 0 et 1"
   ]
  },
  {
   "cell_type": "markdown",
   "metadata": {},
   "source": [
    "Notez que le calcul matriciel est utilisé par défaut. Si on veut faire des calculs sur les éléments individuels de vecteurs ou matrices, il faut le préciser avec des opérateurs spéciaux (précédés par un point). Ceci dit certaines fonctions qui n'ont pas de version matricielle opèrent sur les éléments individuels."
   ]
  },
  {
   "cell_type": "code",
   "execution_count": 9,
   "metadata": {
    "collapsed": false
   },
   "outputs": [
    {
     "data": {
      "text/plain": [
       "B =\n",
       "\n",
       "     1     2\n",
       "     3     4\n",
       "\n",
       "\n",
       "ans =\n",
       "\n",
       "     7    10\n",
       "    15    22\n",
       "\n",
       "\n",
       "ans =\n",
       "\n",
       "     1     4\n",
       "     9    16\n",
       "\n",
       "\n",
       "ans =\n",
       "\n",
       "     7    10\n",
       "    15    22\n",
       "\n",
       "\n",
       "ans =\n",
       "\n",
       "     1     4\n",
       "     9    16\n",
       "\n",
       "\n",
       "ans =\n",
       "\n",
       "    0.8415    0.9093\n",
       "    0.1411   -0.7568"
      ]
     },
     "execution_count": 9,
     "metadata": {},
     "output_type": "execute_result"
    }
   ],
   "source": [
    "B = [1 2;3 4]\n",
    "B*B   % multiplication matricielle\n",
    "B.*B  % multiplication de chaque élément par lui-même\n",
    "B^2\n",
    "B.^2\n",
    "sin(B)  % sin de chaque élément - pas besoin de boucle for!"
   ]
  },
  {
   "cell_type": "markdown",
   "metadata": {},
   "source": [
    "Un message d'erreur est renvoyé si les dimensions sont incompatibles. "
   ]
  },
  {
   "cell_type": "code",
   "execution_count": 10,
   "metadata": {
    "collapsed": false
   },
   "outputs": [
    {
     "name": "stderr",
     "output_type": "stream",
     "text": [
      "Inner matrix dimensions must agree.\n"
     ]
    }
   ],
   "source": [
    "A1 = rand(2,3); A2 = rand(3,4);\n",
    "A2*A1"
   ]
  },
  {
   "cell_type": "markdown",
   "metadata": {},
   "source": [
    "Le language offre des structures de contrôle standard, voir la documentation (boucles **`for`**, **`while`**, tests avec **`if`**, **`elseif`**, **`else`**, etc. Les blocs sont généralement terminés par **`end`**.)"
   ]
  },
  {
   "cell_type": "code",
   "execution_count": 11,
   "metadata": {
    "collapsed": false,
    "scrolled": true
   },
   "outputs": [
    {
     "data": {
      "text/plain": [
       "A =\n",
       "\n",
       "     2     3     4\n",
       "     3     4     5"
      ]
     },
     "execution_count": 11,
     "metadata": {},
     "output_type": "execute_result"
    }
   ],
   "source": [
    "A = zeros(2,3);\n",
    "for i=1:size(A,1) \n",
    "    for j=1:size(A,2)\n",
    "        A(i,j) = i+j;\n",
    "    end\n",
    "end\n",
    "A"
   ]
  },
  {
   "cell_type": "markdown",
   "metadata": {},
   "source": [
    "En passant, pour développer du code relativement rapide en Matlab, il faut essayer d'implémenter vos opérations commes des opérations de calcul matriciel, et éviter les boucles for, while, etc., qui sont lentes dans ce language. Comparer"
   ]
  },
  {
   "cell_type": "code",
   "execution_count": 12,
   "metadata": {
    "collapsed": false
   },
   "outputs": [],
   "source": [
    "n = 1e7;  % 10,000,000\n",
    "a = ones(1,n);\n",
    "b = ones(n,1);"
   ]
  },
  {
   "cell_type": "code",
   "execution_count": 13,
   "metadata": {
    "collapsed": false
   },
   "outputs": [
    {
     "data": {
      "text/plain": [
       "res =\n",
       "\n",
       "    10000000\n",
       "\n",
       "Elapsed time is 3.811070 seconds."
      ]
     },
     "execution_count": 13,
     "metadata": {},
     "output_type": "execute_result"
    }
   ],
   "source": [
    "tic  % tic et toc permettent de mesurer le temps d'execution d'un bloc de code\n",
    "res = 0;\n",
    "for i=1:n\n",
    "    res = res+a(i)*b(i);\n",
    "end\n",
    "res\n",
    "toc"
   ]
  },
  {
   "cell_type": "code",
   "execution_count": 14,
   "metadata": {
    "collapsed": false
   },
   "outputs": [
    {
     "data": {
      "text/plain": [
       "res =\n",
       "\n",
       "    10000000\n",
       "\n",
       "Elapsed time is 0.009237 seconds."
      ]
     },
     "execution_count": 14,
     "metadata": {},
     "output_type": "execute_result"
    }
   ],
   "source": [
    "tic\n",
    "res = a*b\n",
    "toc"
   ]
  },
  {
   "cell_type": "markdown",
   "metadata": {},
   "source": [
    "Pour aller chercher de bonnes performances avec MATLAB, il faut souvent faire attention à votre code. Voir les références en bas de page."
   ]
  },
  {
   "cell_type": "markdown",
   "metadata": {},
   "source": [
    "Quelques autres fonctions utiles:\n",
    "* **``clear``** pour supprimer certaines ou toutes vos variables de la mémoire\n",
    "* **``clc``** pour effacer l'écran\n",
    "* **``save``** et **``load``** pour enregistrer des données sur disque (utile pour conserver le résultat d'un long calcul)\n",
    "* **``who``**, **``whos``** pour afficher les variables du workspace et leurs propriétés"
   ]
  },
  {
   "cell_type": "markdown",
   "metadata": {},
   "source": [
    "## Exemples de fonctions disponibles"
   ]
  },
  {
   "cell_type": "markdown",
   "metadata": {},
   "source": [
    "#### Polynômes\n",
    "Racines d'un polynôme avec **`roots`**"
   ]
  },
  {
   "cell_type": "code",
   "execution_count": 15,
   "metadata": {
    "collapsed": false,
    "scrolled": true
   },
   "outputs": [
    {
     "data": {
      "text/plain": [
       "ROOTS  Find polynomial roots.\n",
       "    ROOTS(C) computes the roots of the polynomial whose coefficients\n",
       "    are the elements of the vector C. If C has N+1 components,\n",
       "    the polynomial is C(1)*X^N + ... + C(N)*X + C(N+1).\n",
       " \n",
       "    Note:  Leading zeros in C are discarded first.  Then, leading relative\n",
       "    zeros are removed as well.  That is, if division by the leading\n",
       "    coefficient results in overflow, all coefficients up to the first\n",
       "    coefficient where overflow occurred are also discarded.  This process is\n",
       "    repeated until the leading coefficient is not a relative zero.\n",
       " \n",
       "    Class support for input c: \n",
       "       float: double, single\n",
       " \n",
       "    See also POLY, RESIDUE, FZERO.\n",
       "\n",
       "    Other functions named roots:\n",
       "       gf/roots\n",
       "       gpuArray/roots\n",
       "\n",
       "    Reference page in Help browser\n",
       "       doc roots"
      ]
     },
     "execution_count": 15,
     "metadata": {},
     "output_type": "execute_result"
    }
   ],
   "source": [
    "help roots  % l'aide explique comment utiliser une fonction"
   ]
  },
  {
   "cell_type": "markdown",
   "metadata": {},
   "source": [
    "Racines du polynôme $p(x) = 6 x^6 + 5 x^5 + 3 x^3 + 2 x^2 + x$"
   ]
  },
  {
   "cell_type": "code",
   "execution_count": 16,
   "metadata": {
    "collapsed": false,
    "scrolled": false
   },
   "outputs": [
    {
     "data": {
      "text/plain": [
       "p =\n",
       "\n",
       "     6     5     0     3     2     1     0\n",
       "\n",
       "\n",
       "ans =\n",
       "\n",
       "   0.0000 + 0.0000i\n",
       "  -1.1067 + 0.0000i\n",
       "   0.4481 + 0.6448i\n",
       "   0.4481 - 0.6448i\n",
       "  -0.3114 + 0.3837i\n",
       "  -0.3114 - 0.3837i"
      ]
     },
     "execution_count": 16,
     "metadata": {},
     "output_type": "execute_result"
    }
   ],
   "source": [
    "p = [6 5 0 3 2 1 0]\n",
    "roots(p)"
   ]
  },
  {
   "cell_type": "markdown",
   "metadata": {},
   "source": [
    "Note: en plus de l'aide, il peut être utile de savoir comment une fonction est implémentée. C'est faisable si le code de MathWorks n'appelle pas de fonction C (ou autre) compilée. Vous pouvez localiser les fonctions sur votre système grâce à la commande **`which`**. Il est intéressant de regarder la méthode utilisée par **`roots`** pour calculer les racines d'un polynôme (utilisation de la matrice compagnon)."
   ]
  },
  {
   "cell_type": "code",
   "execution_count": 17,
   "metadata": {
    "collapsed": false
   },
   "outputs": [
    {
     "data": {
      "text/plain": [
       "/Applications/MATLAB_R2015a.app/toolbox/matlab/polyfun/roots.m"
      ]
     },
     "execution_count": 17,
     "metadata": {},
     "output_type": "execute_result"
    }
   ],
   "source": [
    "which roots"
   ]
  },
  {
   "cell_type": "markdown",
   "metadata": {},
   "source": [
    "#### Algèbre linéaire"
   ]
  },
  {
   "cell_type": "code",
   "execution_count": 18,
   "metadata": {
    "collapsed": false
   },
   "outputs": [
    {
     "data": {
      "text/plain": [
       "A =\n",
       "\n",
       "     0     1\n",
       "     1     0\n",
       "\n",
       "\n",
       "V =\n",
       "\n",
       "   -0.7071    0.7071\n",
       "    0.7071    0.7071\n",
       "\n",
       "\n",
       "D =\n",
       "\n",
       "    -1     0\n",
       "     0     1\n",
       "\n",
       "\n",
       "d =\n",
       "\n",
       "    -1\n",
       "\n",
       "\n",
       "B =\n",
       "\n",
       "   1.0000 + 1.0000i   2.0000 + 2.0000i\n",
       "   3.0000 + 3.0000i   4.0000 + 4.0000i\n",
       "\n",
       "\n",
       "cj =\n",
       "\n",
       "   1.0000 - 1.0000i   3.0000 - 3.0000i\n",
       "   2.0000 - 2.0000i   4.0000 - 4.0000i\n",
       "\n",
       "\n",
       "tr =\n",
       "\n",
       "   1.0000 + 1.0000i   3.0000 + 3.0000i\n",
       "   2.0000 + 2.0000i   4.0000 + 4.0000i"
      ]
     },
     "execution_count": 18,
     "metadata": {},
     "output_type": "execute_result"
    }
   ],
   "source": [
    "A=[0 1;1 0]\n",
    "[V,D] = eig(A)  % vecteurs et valeurs propres\n",
    "d = det(A)\n",
    "B = (1+1i)*[1 2;3 4]\n",
    "cj = B'  % attention, matrice conjuguée, pas juste transposée\n",
    "tr = transpose(B)"
   ]
  },
  {
   "cell_type": "markdown",
   "metadata": {},
   "source": [
    "Exponentielle d'une matrice: attention à la différence entre **`exp`** et **`expm`**"
   ]
  },
  {
   "cell_type": "code",
   "execution_count": 19,
   "metadata": {
    "collapsed": false
   },
   "outputs": [
    {
     "data": {
      "text/plain": [
       "ans =\n",
       "\n",
       "    1.0000    2.7183\n",
       "    2.7183    1.0000\n",
       "\n",
       "\n",
       "ans =\n",
       "\n",
       "    1.5431    1.1752\n",
       "    1.1752    1.5431"
      ]
     },
     "execution_count": 19,
     "metadata": {},
     "output_type": "execute_result"
    }
   ],
   "source": [
    "exp(A)  % exponentielle de chaque élément\n",
    "expm(A)"
   ]
  },
  {
   "cell_type": "markdown",
   "metadata": {},
   "source": [
    "#### Fonctions trigonométriques, sur les nombres complexes"
   ]
  },
  {
   "cell_type": "code",
   "execution_count": 20,
   "metadata": {
    "collapsed": false
   },
   "outputs": [
    {
     "data": {
      "text/plain": [
       "ans =\n",
       "\n",
       "    0.9828\n",
       "\n",
       "\n",
       "ans =\n",
       "\n",
       "    0.9828\n",
       "\n",
       "\n",
       "ans =\n",
       "\n",
       "  Columns 1 through 7\n",
       "\n",
       "         0    0.0998    0.1987    0.2955    0.3894    0.4794    0.5646\n",
       "\n",
       "  Columns 8 through 11\n",
       "\n",
       "    0.6442    0.7174    0.7833    0.8415"
      ]
     },
     "execution_count": 20,
     "metadata": {},
     "output_type": "execute_result"
    }
   ],
   "source": [
    "atan2(3,2)   % atan2(y,x)\n",
    "angle(2+3i)  % angle d'un nombre complexe - voir aussi real, imag, abs, conj\n",
    "t = 0:0.1:1;\n",
    "sin(t)"
   ]
  },
  {
   "cell_type": "markdown",
   "metadata": {},
   "source": [
    "### Equation différentielles"
   ]
  },
  {
   "cell_type": "markdown",
   "metadata": {},
   "source": [
    "On veut simuler le système (vu en cours)\n",
    "$$\n",
    "\\begin{align*}\n",
    "\\dot x_1 &= x_2 \\\\\n",
    "\\dot x_2 &= \\frac{K}{M} x_1 - \\frac{B}{M} x_2 + \\frac{1}{M} f\n",
    "\\end{align*}\n",
    "$$\n",
    "pour $x_1(0) = x_2(0) = 0$, avec \n",
    "$$\n",
    "f(t) = \\begin{cases}\n",
    "1 & \\text{si } 2 \\leq t \\leq 3 \\\\\n",
    "0 & \\text{sinon}.\n",
    "\\end{cases}\n",
    "$$"
   ]
  },
  {
   "cell_type": "code",
   "execution_count": 21,
   "metadata": {
    "collapsed": true
   },
   "outputs": [],
   "source": [
    "M = 10; B = 3; K = 1;\n",
    "% t0 est l'instant initial, t1 l'instant final\n",
    "t0 = 0; t1 = 35;\n",
    "% x0 est la condition initiale (vecteur)\n",
    "x0 = [0; 0];"
   ]
  },
  {
   "cell_type": "markdown",
   "metadata": {},
   "source": [
    "On déclare la fonction dérivée (suspension) dans un fichier externe du même nom (suspension.m)\n",
    "```julia\n",
    "function xdot = suspension(t,x,M,B,K)\n",
    "f = 0;\n",
    "% Exerce une force de 1 pendant l'intervalle [2,3]\n",
    "if (t >= 2 && t <= 3)\n",
    "\tf = 1;\n",
    "end\n",
    "xdot = [x(2); -(K/M)*x(1)-(B/M)*x(2)+(1/M)*f];\n",
    "```"
   ]
  },
  {
   "cell_type": "code",
   "execution_count": 22,
   "metadata": {
    "collapsed": false
   },
   "outputs": [
    {
     "data": {
      "text/plain": [
       "ans =\n",
       "\n",
       "    1.0000\n",
       "   -0.4000"
      ]
     },
     "execution_count": 22,
     "metadata": {},
     "output_type": "execute_result"
    }
   ],
   "source": [
    "suspension(1,[1; 1],M,B,K)"
   ]
  },
  {
   "cell_type": "markdown",
   "metadata": {},
   "source": [
    "**`ode45`** est la fonction standard à essayer en premier pour intégrer un équation différentielle. Elle prend comme argument la fonction définissant la dérivée, c'est-à-dire le côté droit du système. Passer cette fonction comme argument nécessite de définir une \"fonction handle\" dans MATLAB."
   ]
  },
  {
   "cell_type": "code",
   "execution_count": 23,
   "metadata": {
    "collapsed": false
   },
   "outputs": [
    {
     "data": {
      "text/plain": [
       "ans =\n",
       "\n",
       "  Columns 1 through 7\n",
       "\n",
       "         0    0.2879    0.5758    0.8637    1.1517    1.2648    1.3780\n",
       "\n",
       "  Columns 8 through 10\n",
       "\n",
       "    1.4911    1.6043    1.6364\n",
       "\n",
       "\n",
       "ans =\n",
       "\n",
       "     0     0     0     0     0     0     0     0     0     0\n",
       "     0     0     0     0     0     0     0     0     0     0"
      ]
     },
     "execution_count": 23,
     "metadata": {},
     "output_type": "execute_result"
    }
   ],
   "source": [
    "fh = @(t,x) suspension(t,x,M,B,K);  % voir solution alternative dans le cours avec variables globales\n",
    "[t,x] = ode45(fh,[t0,t1],x0);\n",
    "t(1:10)'\n",
    "x(1:10,:)'"
   ]
  },
  {
   "cell_type": "markdown",
   "metadata": {},
   "source": [
    "## Fonction graphiques"
   ]
  },
  {
   "cell_type": "markdown",
   "metadata": {},
   "source": [
    "La fonction de base est **`plot`**, qui peut prendre de nombreux arguments. **`figure`** crée une nouvelle figure pour éviter d'écraser la précédente. "
   ]
  },
  {
   "cell_type": "code",
   "execution_count": 24,
   "metadata": {
    "collapsed": false
   },
   "outputs": [
    {
     "data": {
      "text/plain": [
       "PLOT   Linear plot. \n",
       "    PLOT(X,Y) plots vector Y versus vector X. If X or Y is a matrix,\n",
       "    then the vector is plotted versus the rows or columns of the matrix,\n",
       "    whichever line up.  If X is a scalar and Y is a vector, disconnected\n",
       "    line objects are created and plotted as discrete points vertically at\n",
       "    X.\n",
       " \n",
       "    PLOT(Y) plots the columns of Y versus their index.\n",
       "    If Y is complex, PLOT(Y) is equivalent to PLOT(real(Y),imag(Y)).\n",
       "    In all other uses of PLOT, the imaginary part is ignored.\n",
       " \n",
       "    Various line types, plot symbols and colors may be obtained with\n",
       "    PLOT(X,Y,S) where S is a character string made from one element\n",
       "    from any or all the following 3 columns:\n",
       " \n",
       "           b     blue          .     point              -     solid\n",
       "           g     green         o     circle             :     dotted\n",
       "           r     red           x     x-mark             -.    dashdot \n",
       "           c     cyan          +     plus               --    dashed   \n",
       "           m     magenta       *     star             (none)  no line\n",
       "           y     yellow        s     square\n",
       "           k     black         d     diamond\n",
       "           w     white         v     triangle (down)\n",
       "                               ^     triangle (up)\n",
       "                               <     triangle (left)\n",
       "                               >     triangle (right)\n",
       "                               p     pentagram\n",
       "                               h     hexagram\n",
       "                          \n",
       "    For example, PLOT(X,Y,'c+:') plots a cyan dotted line with a plus \n",
       "    at each data point; PLOT(X,Y,'bd') plots blue diamond at each data \n",
       "    point but does not draw any line.\n",
       " \n",
       "    PLOT(X1,Y1,S1,X2,Y2,S2,X3,Y3,S3,...) combines the plots defined by\n",
       "    the (X,Y,S) triples, where the X's and Y's are vectors or matrices \n",
       "    and the S's are strings.  \n",
       " \n",
       "    For example, PLOT(X,Y,'y-',X,Y,'go') plots the data twice, with a\n",
       "    solid yellow line interpolating green circles at the data points.\n",
       " \n",
       "    The PLOT command, if no color is specified, makes automatic use of\n",
       "    the colors specified by the axes ColorOrder property.  By default,\n",
       "    PLOT cycles through the colors in the ColorOrder property.  For\n",
       "    monochrome systems, PLOT cycles over the axes LineStyleOrder property.\n",
       " \n",
       "    Note that RGB colors in the ColorOrder property may differ from\n",
       "    similarly-named colors in the (X,Y,S) triples.  For example, the \n",
       "    second axes ColorOrder property is medium green with RGB [0 .5 0],\n",
       "    while PLOT(X,Y,'g') plots a green line with RGB [0 1 0].\n",
       " \n",
       "    If you do not specify a marker type, PLOT uses no marker. \n",
       "    If you do not specify a line style, PLOT uses a solid line.\n",
       " \n",
       "    PLOT(AX,...) plots into the axes with handle AX.\n",
       " \n",
       "    PLOT returns a column vector of handles to lineseries objects, one\n",
       "    handle per plotted line. \n",
       " \n",
       "    The X,Y pairs, or X,Y,S triples, can be followed by \n",
       "    parameter/value pairs to specify additional properties \n",
       "    of the lines. For example, PLOT(X,Y,'LineWidth',2,'Color',[.6 0 0]) \n",
       "    will create a plot with a dark red line width of 2 points.\n",
       " \n",
       "    Example\n",
       "       x = -pi:pi/10:pi;\n",
       "       y = tan(sin(x)) - sin(tan(x));\n",
       "       plot(x,y,'--rs','LineWidth',2,...\n",
       "                       'MarkerEdgeColor','k',...\n",
       "                       'MarkerFaceColor','g',...\n",
       "                       'MarkerSize',10)\n",
       " \n",
       "    See also PLOTTOOLS, SEMILOGX, SEMILOGY, LOGLOG, PLOTYY, PLOT3, GRID,\n",
       "    TITLE, XLABEL, YLABEL, AXIS, AXES, HOLD, LEGEND, SUBPLOT, SCATTER.\n",
       "\n",
       "    Other functions named plot:\n",
       "       alphaShape/plot\n",
       "       duration/plot\n",
       "       datetime/plot\n",
       "       channel.plot\n",
       "       sfit/plot\n",
       "       cfit/plot\n",
       "       iddata/plot\n",
       "       idnlhw/plot\n",
       "       idnlarx/plot\n",
       "       mpc/plot\n",
       "       frd/plot\n",
       "       dspdata.plot\n",
       "       LinearModel/plot\n",
       "       timeseries/plot\n",
       "       wdectree/plot\n",
       "       ntree/plot\n",
       "       dtree/plot\n",
       "       wvtree/plot\n",
       "       rwvtree/plot\n",
       "       edwttree/plot\n",
       "\n",
       "    Reference page in Help browser\n",
       "       doc plot"
      ]
     },
     "execution_count": 24,
     "metadata": {},
     "output_type": "execute_result"
    }
   ],
   "source": [
    "help plot  % aussi semilogx, semilogy, loglog"
   ]
  },
  {
   "cell_type": "markdown",
   "metadata": {},
   "source": [
    "Traçons la solution de l'équation différentielle précédente."
   ]
  },
  {
   "cell_type": "code",
   "execution_count": 25,
   "metadata": {
    "collapsed": false
   },
   "outputs": [
    {
     "data": {
      "image/png": "[encoded data removed]",
      "text/plain": [
       "<IPython.core.display.Image object>"
      ]
     },
     "metadata": {},
     "output_type": "display_data"
    }
   ],
   "source": [
    "plot(t,x(:,1),'r',t,x(:,2),'b');\n",
    "title('Position et Vitesse');\n",
    "xlabel('Temps (s)');\n",
    "legend('y','dy/dt');\n",
    "grid on;"
   ]
  },
  {
   "cell_type": "markdown",
   "metadata": {},
   "source": [
    "Ou avec des figures séparées, mais sur la fenêtre."
   ]
  },
  {
   "cell_type": "code",
   "execution_count": 26,
   "metadata": {
    "collapsed": false
   },
   "outputs": [
    {
     "data": {
      "image/png": "[encoded data removed]",
      "text/plain": [
       "<IPython.core.display.Image object>"
      ]
     },
     "metadata": {},
     "output_type": "display_data"
    }
   ],
   "source": [
    "subplot(2,1,1);\n",
    "plot(t,x(:,1),'r');\n",
    "grid on;\n",
    "xlabel('Temps (s)');\n",
    "ylabel('Position');\n",
    "subplot(2,1,2);\n",
    "plot(t,x(:,2));\n",
    "grid on;\n",
    "xlabel('Temps (s)');\n",
    "ylabel('Vitesse');\n"
   ]
  },
  {
   "cell_type": "markdown",
   "metadata": {},
   "source": [
    "Suivre l'énoncé p.5 et p.6. On a le contrôle sur les paramètres des axes (par exemple, les \"ticks\"), voir la documentation pour **`gca`** et *Axes Properties*."
   ]
  },
  {
   "cell_type": "markdown",
   "metadata": {},
   "source": [
    "## Analyse des systèmes: quelques éléments pour débuter"
   ]
  },
  {
   "cell_type": "markdown",
   "metadata": {},
   "source": [
    "On peut déclarer une fonction de transfert avec la fonction **`tf`** comme un rapport de polynômes, au numérateur et dénominateur, chacun déclaré sous forme de vecteur de coefficients (voir ci-dessus; il faut inscrire les coefficients nuls explicitement)."
   ]
  },
  {
   "cell_type": "code",
   "execution_count": 27,
   "metadata": {
    "collapsed": false,
    "scrolled": true
   },
   "outputs": [
    {
     "data": {
      "text/plain": [
       "G =\n",
       " \n",
       "        s^2 + s\n",
       "  -------------------\n",
       "  s^3 + 3 s^2 + s + 1\n",
       " \n",
       "Continuous-time transfer function."
      ]
     },
     "execution_count": 27,
     "metadata": {},
     "output_type": "execute_result"
    }
   ],
   "source": [
    "G = tf([1 1 0],[1 3 1 1])"
   ]
  },
  {
   "cell_type": "markdown",
   "metadata": {},
   "source": [
    "Manipulation inverse pour obtenir les coefficients d'une fonction de transfert."
   ]
  },
  {
   "cell_type": "code",
   "execution_count": 28,
   "metadata": {
    "collapsed": false
   },
   "outputs": [
    {
     "data": {
      "text/plain": [
       "num =\n",
       "\n",
       "     0     1     1     0\n",
       "\n",
       "\n",
       "den =\n",
       "\n",
       "     1     3     1     1"
      ]
     },
     "execution_count": 28,
     "metadata": {},
     "output_type": "execute_result"
    }
   ],
   "source": [
    "[num,den] = tfdata(G,'v')"
   ]
  },
  {
   "cell_type": "markdown",
   "metadata": {},
   "source": [
    "Ce n'est pas très pratique pour les manipulations \"à la main\" (mais c'est ok dans les algorithmes), surtout pour les polynômes creux... Une alternative passe par la déclaration du symbole s. Retenir l'idiome"
   ]
  },
  {
   "cell_type": "code",
   "execution_count": 29,
   "metadata": {
    "collapsed": false
   },
   "outputs": [
    {
     "data": {
      "text/plain": [
       "s =\n",
       " \n",
       "  s\n",
       " \n",
       "Continuous-time transfer function."
      ]
     },
     "execution_count": 29,
     "metadata": {},
     "output_type": "execute_result"
    }
   ],
   "source": [
    "s = tf('s')  % symbole s pour les fonctions de transfert en temps continu"
   ]
  },
  {
   "cell_type": "markdown",
   "metadata": {},
   "source": [
    "Une fois la variable `s` définie, voici une autre façon de déclarer la fonction de transfert $$F(s) = \\frac{s^2+s}{s^3+3s^2+s+1}.$$"
   ]
  },
  {
   "cell_type": "code",
   "execution_count": 30,
   "metadata": {
    "collapsed": false
   },
   "outputs": [
    {
     "data": {
      "text/plain": [
       "F =\n",
       " \n",
       "        s^2 + s\n",
       "  -------------------\n",
       "  s^3 + 3 s^2 + s + 1\n",
       " \n",
       "Continuous-time transfer function."
      ]
     },
     "execution_count": 30,
     "metadata": {},
     "output_type": "execute_result"
    }
   ],
   "source": [
    "F = (s^2 + s)/(s^3 + 3*s^2 + s + 1)  "
   ]
  },
  {
   "cell_type": "markdown",
   "metadata": {},
   "source": [
    "Pôles, zéros, gain statique, factorisation de fonctions de transferts."
   ]
  },
  {
   "cell_type": "code",
   "execution_count": 31,
   "metadata": {
    "collapsed": false
   },
   "outputs": [
    {
     "data": {
      "text/plain": [
       "ps =\n",
       "\n",
       "  -2.7693 + 0.0000i\n",
       "  -0.1154 + 0.5897i\n",
       "  -0.1154 - 0.5897i\n",
       "\n",
       "\n",
       "zs =\n",
       "\n",
       "     0\n",
       "    -1\n",
       "\n",
       "\n",
       "g =\n",
       "\n",
       "     0\n",
       "\n",
       "\n",
       "ans =\n",
       " \n",
       "               s (s+1)\n",
       "  ----------------------------------\n",
       "  (s+2.769) (s^2 + 0.2307s + 0.3611)\n",
       " \n",
       "Continuous-time zero/pole/gain model."
      ]
     },
     "execution_count": 31,
     "metadata": {},
     "output_type": "execute_result"
    }
   ],
   "source": [
    "ps = pole(F)\n",
    "zs = zero(G)\n",
    "g = dcgain(F)\n",
    "zpk(F)"
   ]
  },
  {
   "cell_type": "markdown",
   "metadata": {},
   "source": [
    "Attention: **`zpk`** signifie zero-pole-gain, mais il s'agit du gain $K$ de la factorization\n",
    "$$F(s) = K \\frac{(s-z_1)\\ldots(s-z_m)}{(s-p_1)\\ldots(s-p_n)},$$\n",
    "qui est différent du gain statique en général."
   ]
  },
  {
   "cell_type": "code",
   "execution_count": 32,
   "metadata": {
    "collapsed": false
   },
   "outputs": [
    {
     "data": {
      "text/plain": [
       "S =\n",
       " \n",
       "               s (s+1)\n",
       "  ----------------------------------\n",
       "  (s+2.769) (s^2 + 0.2307s + 0.3611)\n",
       " \n",
       "Continuous-time zero/pole/gain model."
      ]
     },
     "execution_count": 32,
     "metadata": {},
     "output_type": "execute_result"
    }
   ],
   "source": [
    "S = zpk(zs,ps,1)  % on retrouve F. zpk(zs,ps,0) serait une mauvaise idée..."
   ]
  },
  {
   "cell_type": "markdown",
   "metadata": {},
   "source": [
    "Diagramme pôles-zéros dans le plan s: **``pzmap``**"
   ]
  },
  {
   "cell_type": "code",
   "execution_count": 33,
   "metadata": {
    "collapsed": false
   },
   "outputs": [
    {
     "data": {
      "image/png": "[encoded data removed]",
      "text/plain": [
       "<IPython.core.display.Image object>"
      ]
     },
     "metadata": {},
     "output_type": "display_data"
    }
   ],
   "source": [
    "pzmap(F)"
   ]
  },
  {
   "cell_type": "markdown",
   "metadata": {},
   "source": [
    "Notez que beaucoup des fonctions de manipulation de systèmes (entre autres) sont overloadées, c'est-à-dire peuvent prendre différents types d'arguments. Cela peut-être assez embrouillant, donc il faudra utiliser l'aide. Même chose pour le comportement suivant le nombre d'arguments de sortie. Comparez"
   ]
  },
  {
   "cell_type": "code",
   "execution_count": 34,
   "metadata": {
    "collapsed": false
   },
   "outputs": [
    {
     "data": {
      "image/png": "[encoded data removed]",
      "text/plain": [
       "<IPython.core.display.Image object>"
      ]
     },
     "metadata": {},
     "output_type": "display_data"
    }
   ],
   "source": [
    "bode(F);  % sans argument, on obtient un tracé du diagramme de bode"
   ]
  },
  {
   "cell_type": "code",
   "execution_count": 35,
   "metadata": {
    "collapsed": false
   },
   "outputs": [],
   "source": [
    "[mag,phase]=bode(F);  % avec des arguments de sortie, on enregistre la réponse fréquentielle dans des vecteurs"
   ]
  },
  {
   "cell_type": "markdown",
   "metadata": {},
   "source": [
    "Notez que **`bode`** peut prendre aussi d'autres arguments en entrée. Voir **`help bode`**."
   ]
  },
  {
   "cell_type": "markdown",
   "metadata": {},
   "source": [
    "Par défaut MATLAB ne fait pas les simplifications pôles/zéros (pour de bonnes raisons, voir ci-dessous). On peut forcer cette simplification grâce à la fonction **`minreal`** (qui veut dire \"réalisation minimale\"). On peut introduire une tolérance pour définir ce qu'on considère comme valeurs numériques identiques. voir **`help minreal`**."
   ]
  },
  {
   "cell_type": "code",
   "execution_count": 36,
   "metadata": {
    "collapsed": false
   },
   "outputs": [
    {
     "data": {
      "text/plain": [
       "F =\n",
       " \n",
       "    s\n",
       "  -----\n",
       "  s + 1\n",
       " \n",
       "Continuous-time transfer function.\n",
       "\n",
       "\n",
       "G =\n",
       " \n",
       "      s^2 + s\n",
       "  ---------------\n",
       "  2 s^2 + 3 s + 1\n",
       " \n",
       "Continuous-time transfer function.\n",
       "\n",
       "\n",
       "ans =\n",
       " \n",
       "   0.5 s (s+1)\n",
       "  -------------\n",
       "  (s+1) (s+0.5)\n",
       " \n",
       "Continuous-time zero/pole/gain model.\n",
       "\n",
       "\n",
       "ans =\n",
       " \n",
       "   0.5 s\n",
       "  -------\n",
       "  s + 0.5\n",
       " \n",
       "Continuous-time transfer function."
      ]
     },
     "execution_count": 36,
     "metadata": {},
     "output_type": "execute_result"
    }
   ],
   "source": [
    "F = s/(s+1)\n",
    "G = F/(1+F)\n",
    "zpk(G)\n",
    "minreal(G)"
   ]
  },
  {
   "cell_type": "markdown",
   "metadata": {},
   "source": [
    "MATLAB nous permet aussi de manipuler facilement les modèles d'état linéaires et stationaires avec **`ss`**, **`ssdata`**, etc. (manipulations qu'on peut combiner avec la librairie d'algèbre linéaire fournie). Soit le système à une entrée, une sortie, et dont l'état est de dimension $3$\n",
    "$$ \n",
    "\\begin{align*}\n",
    "\\dot x &= \\begin{bmatrix} 0 & 1 & 0 \\\\ 0 & 0 & 1 \\\\ -1 & -1 & -3 \\end{bmatrix} x  \n",
    "+ \\begin{bmatrix} 0 \\\\ 0 \\\\ 1 \\end{bmatrix} u \\\\\n",
    "y &= \\begin{bmatrix} 0 & 1 & 1 \\end{bmatrix}  x\n",
    "\\end{align*}\n",
    "$$"
   ]
  },
  {
   "cell_type": "code",
   "execution_count": 37,
   "metadata": {
    "collapsed": false
   },
   "outputs": [
    {
     "data": {
      "text/plain": [
       "A =\n",
       "\n",
       "     0     1     0\n",
       "     0     0     1\n",
       "    -1    -1    -3\n",
       "\n",
       "\n",
       "B =\n",
       "\n",
       "     0\n",
       "     0\n",
       "     1\n",
       "\n",
       "\n",
       "C =\n",
       "\n",
       "     0     1     1\n",
       "\n",
       "\n",
       "D =\n",
       "\n",
       "     0\n",
       "\n",
       "\n",
       "sys =\n",
       " \n",
       "  a = \n",
       "       x1  x2  x3\n",
       "   x1   0   1   0\n",
       "   x2   0   0   1\n",
       "   x3  -1  -1  -3\n",
       " \n",
       "  b = \n",
       "       u1\n",
       "   x1   0\n",
       "   x2   0\n",
       "   x3   1\n",
       " \n",
       "  c = \n",
       "       x1  x2  x3\n",
       "   y1   0   1   1\n",
       " \n",
       "  d = \n",
       "       u1\n",
       "   y1   0\n",
       " \n",
       "Continuous-time state-space model.\n",
       "\n",
       "\n",
       "F =\n",
       " \n",
       "        s^2 + s\n",
       "  -------------------\n",
       "  s^3 + 3 s^2 + s + 1\n",
       " \n",
       "Continuous-time transfer function.\n",
       "\n",
       "\n",
       "ans =\n",
       " \n",
       "               s (s+1)\n",
       "  ----------------------------------\n",
       "  (s+2.769) (s^2 + 0.2307s + 0.3611)\n",
       " \n",
       "Continuous-time zero/pole/gain model.\n",
       "\n",
       "\n",
       "A1 =\n",
       "\n",
       "   -3.0000   -1.0000   -1.0000\n",
       "    1.0000         0         0\n",
       "         0    1.0000         0\n",
       "\n",
       "\n",
       "B1 =\n",
       "\n",
       "     2\n",
       "     0\n",
       "     0\n",
       "\n",
       "\n",
       "C1 =\n",
       "\n",
       "    0.5000    0.5000         0\n",
       "\n",
       "\n",
       "D1 =\n",
       "\n",
       "     0"
      ]
     },
     "execution_count": 37,
     "metadata": {},
     "output_type": "execute_result"
    }
   ],
   "source": [
    "A = [0 1 0; 0 0 1; -1 -1 -3]\n",
    "B = [0; 0; 1]\n",
    "C = [0 1 1]\n",
    "D = [0]\n",
    "sys = ss(A,B,C,D)  % crée un système avec modèle d'état\n",
    "F = tf(sys)  % produit sa fonction de transfert C*inv(sI-A)*B + D\n",
    "zpk(F)\n",
    "[A1,B1,C1,D1]=ssdata(F)  % UNE réalisation de la fonction de transfert par modèle d'état, parmi une infinité possible"
   ]
  },
  {
   "cell_type": "markdown",
   "metadata": {},
   "source": [
    "Pour revenir à notre discussion sur les simplifications pôles/zéros, un pôle et un zéro identiques indiquent un système qui n'est pas observable ou contrôlable, notions qui seront définies plus tard dans le cours ELE2200. Donc les systèmes $\\frac{s-1}{(s+1)(s-1)}$ et $\\frac{1}{(s+1)}$ par exemple sont différents. En fait, leur réalisation par modèle d'état est de dimension différente, et le premier système a ici un mode dynamique instable."
   ]
  },
  {
   "cell_type": "code",
   "execution_count": 38,
   "metadata": {
    "collapsed": false
   },
   "outputs": [
    {
     "data": {
      "text/plain": [
       "A =\n",
       "\n",
       "    -1\n",
       "\n",
       "\n",
       "B =\n",
       "\n",
       "     1\n",
       "\n",
       "\n",
       "C =\n",
       "\n",
       "     1\n",
       "\n",
       "\n",
       "D =\n",
       "\n",
       "     0\n",
       "\n",
       "\n",
       "A1 =\n",
       "\n",
       "     0     1\n",
       "     1     0\n",
       "\n",
       "\n",
       "B1 =\n",
       "\n",
       "     2\n",
       "     0\n",
       "\n",
       "\n",
       "C1 =\n",
       "\n",
       "    0.5000   -0.5000\n",
       "\n",
       "\n",
       "D1 =\n",
       "\n",
       "     0\n",
       "\n",
       "\n",
       "ans =\n",
       "\n",
       "    -1\n",
       "\n",
       "\n",
       "ans =\n",
       "\n",
       "    -1\n",
       "     1"
      ]
     },
     "execution_count": 38,
     "metadata": {},
     "output_type": "execute_result"
    }
   ],
   "source": [
    "[A,B,C,D] = ssdata(1/(s+1))\n",
    "[A1,B1,C1,D1] = ssdata((s-1)/((s-1)*(s+1)))\n",
    "eig(A)\n",
    "eig(A1)"
   ]
  },
  {
   "cell_type": "markdown",
   "metadata": {},
   "source": [
    "Note: on peut évidemment manipuler aussi les systèmes en temps discret, les transformées en $z$, etc. Mais cela fera plutôt l'objet d'autres cours (ELE2700, ELE4200...)."
   ]
  },
  {
   "cell_type": "code",
   "execution_count": 39,
   "metadata": {
    "collapsed": false
   },
   "outputs": [
    {
     "data": {
      "text/plain": [
       "z =\n",
       " \n",
       "  z\n",
       " \n",
       "Sample time: unspecified\n",
       "Discrete-time transfer function.\n",
       "\n",
       "\n",
       "F =\n",
       " \n",
       "  z + 0.5\n",
       "  -------\n",
       "  z + 0.9\n",
       " \n",
       "Sample time: unspecified\n",
       "Discrete-time transfer function."
      ]
     },
     "execution_count": 39,
     "metadata": {},
     "output_type": "execute_result"
    }
   ],
   "source": [
    "z = tf('z')\n",
    "F = (z+0.5)/(z+0.9)"
   ]
  },
  {
   "cell_type": "markdown",
   "metadata": {},
   "source": [
    "## Scripts et functions"
   ]
  },
  {
   "cell_type": "markdown",
   "metadata": {},
   "source": [
    "Plutôt que d'utiliser l'environnement interactif directement, il est généralement plus pratique d'utiliser un éditeur pour exécuter des séquences de commandes MATLAB qu'on enregistre dans un fichier appelé **script** (fichier de nom quelconque, **avec l'extension .m**). On utilisera l'éditeur de MATLAB, qui offre des facilités d'intégration avec l'interpréteur utiles, des fonctions d'analyse de code, un débogueur, etc. Un script peut être executé en tapant le nom du fichier dans l'interpréteur, ou en pressant F5 ou la flèche verte dans l'éditeur. Voici un exemple de script:"
   ]
  },
  {
   "cell_type": "markdown",
   "metadata": {},
   "source": [
    "```julia\n",
    "% fichier monScript.m\n",
    "clear;  % clears the workspace (erases the variables from memory!)\n",
    "clc;  % clears the screen\n",
    "A = [1 2 3;4 5 6];  % définition d'une matrice, pas d'affichage\n",
    "s = svd(A)  % affichage des valeurs singulières de A\n",
    "plot(s,zeros(length(s)),'o');\n",
    "```"
   ]
  },
  {
   "cell_type": "markdown",
   "metadata": {},
   "source": [
    "Vous pouvez bien aussi définir vos propres fonctions. Une **fonction** dans MATLAB joue le même rôle que dans les autres languages de programmation (solution à un sous-problème, encapsulation de certaines variables nécessaires seulement pour une tâche locale, etc.). Attention: une fonction appelée **``foo``** doit être définie dans un fichier **``foo.m``**, c'est-à-dire, portant le même nom que la fonction. Voici un exemple de définition de fonction:"
   ]
  },
  {
   "cell_type": "markdown",
   "metadata": {},
   "source": [
    "```julia\n",
    "% on définit la fonction foo dans un fichier foo.m\n",
    "% elle prend 2 arguments en entrée, et retourne deux résultats r et y\n",
    "% on ne spécifie pas les types ou la signature de la fonction, comme d'habitude\n",
    "function [r,d] = foo(x,y)\n",
    "\n",
    "a = 1;  % la variable a est définie seulement dans foo, elle ne sera pas accessible dans le workspace\n",
    "\n",
    "if x >= 0  % cette opération sur le type de x doit être valide, sinon erreur\n",
    "  r = x+y+a;\n",
    "else\n",
    "  r = x-y;\n",
    "end\n",
    "\n",
    "d = rand(1,5)\n",
    "\n",
    "end  % facultatif, sauf si vous souhaitez définir une sous-routine après foo dans le même fichier\n",
    "```"
   ]
  },
  {
   "cell_type": "code",
   "execution_count": 40,
   "metadata": {
    "collapsed": false
   },
   "outputs": [
    {
     "data": {
      "text/plain": [
       "a =\n",
       "\n",
       "     4\n",
       "\n",
       "\n",
       "b =\n",
       "\n",
       "    0.7537    0.3804    0.5678    0.0759    0.0540"
      ]
     },
     "execution_count": 40,
     "metadata": {},
     "output_type": "execute_result"
    }
   ],
   "source": [
    "[a,b]=foo(1,2)  % [~,b] = foo(1,2) si le premier élément n'est pas utile"
   ]
  },
  {
   "cell_type": "markdown",
   "metadata": {
    "collapsed": true
   },
   "source": [
    "## Liens et brève comparaison avec d'autres environnements et languages\n",
    "\n",
    "Bien sûr, le principal repproche que l'on peut faire à Matlab est que c'est un logiciel payant, dont les licenses peuvent coûter cher, surtout pour des utilisations non académiques. En contrepartie, le logiciel comprend de très nombreuses fonctionalités, dont le nombre ne cesse d'augmenter, et est généralement de bonne qualité (sauf parfois certaines toolbox lors dans leurs premières versions). Vous pourrez continuer à explorer ces fonctions au fur et à mesure de votre formation et selon votre spécialisation."
   ]
  },
  {
   "cell_type": "markdown",
   "metadata": {},
   "source": [
    "Il existe d'autres logiciels qui offrent des fonctionalités similaires à Matlab mais sont moins couteux, voir open source. Notamment:\n",
    "* [Scilab](http://www.scilab.org), développé initialement dans les années 90 par l'INRIA et l'ENPC en France.\n",
    "* [GNU Octave](https://www.gnu.org/software/octave/) qui cherche est être le plus compatible possible avec la syntaxe MATLAB.\n",
    "* [Modelica](https://www.modelica.org) et des environnements gratuits comme [OpenModelica](https://www.openmodelica.org).\n",
    "* [LabView](http://www.ni.com/labview/) qui est souvent utilisé pour des simulations et tests avec \"hardware-in-the loop\".\n",
    "* [Opal-RT](http://www.opal-rt.com), très utilisé pour la simulation des réseaux électriques.\n",
    "* ...\n",
    "\n",
    "Notons aussi des languages comme [Mathematica](https://www.wolfram.com/mathematica/) ou [Maple](http://www.maplesoft.com/products/maple/), qui par rapport à MATLAB ciblent plus le calcul symbolique que numérique. MATLAB offre aussi une toolbox pour le calcul symbolique (`Symbolic Math Toolbox`)."
   ]
  },
  {
   "cell_type": "markdown",
   "metadata": {},
   "source": [
    "D'autre part, certains languages de programmation généraux sont utilisés de manière similaire à Matlab pour le prototypage d'algorithmes. Citons juste\n",
    "* [Python](https://www.python.org) et les libraires Numpy, Scipy, etc., qu'on peut installer plus facilement avec des distributions comme [Anaconda](https://www.continuum.io/why-anaconda),\n",
    "* ou encore [Julia](http://julialang.org)."
   ]
  },
  {
   "cell_type": "code",
   "execution_count": 1,
   "metadata": {
    "collapsed": false
   },
   "outputs": [
    {
     "data": {
      "text/plain": [
       "4x1 Array{Float64,2}:\n",
       " -0.190555\n",
       " -0.146046\n",
       "  0.900769\n",
       "  0.459416"
      ]
     },
     "execution_count": 1,
     "metadata": {},
     "output_type": "execute_result"
    }
   ],
   "source": [
    "# julia\n",
    "A = randn(6,4)\n",
    "b = randn(6,1)\n",
    "x = A\\b"
   ]
  },
  {
   "cell_type": "markdown",
   "metadata": {
    "collapsed": true
   },
   "source": [
    "# Simulink"
   ]
  },
  {
   "cell_type": "markdown",
   "metadata": {},
   "source": [
    "### Ingénierie système à base de modèles\n",
    "\n",
    "Une tendance émergente pour la gestion rigoureuse de projets complexes dans l'industrie est l'ingénierie système basée sur les modèles. Un modèle conceptuel classique de gestion de projet est celui du *cycle en V* ![image wiki du cycle en V](http://www.xqual.com/resources/images/tutorials/v_cycle.gif)\n",
    "[//]: # \"Si le lien ne marche pas, le remplacer par l'image copiée dans le dossier\"\n",
    "\n",
    "Traditionnellement, les premières phase de design aboutissent à des documents textes contenant les spécifications du produit à développer, les contraintes, etc. Ces documents servent aux ingénieurs pour la conception, ainsi que de référence pour les tests. Toutefois, la gestion de documents textes dans des grandes organisations et pour des projets complexes est difficile. En particulier, les interdépendances entre spécifications, requis et contraintes exprimées à différentes endroits, voir dans différents documents, sont difficiles à visualiser. Les spécifications textes tendent aussi à être ambigues. Typiquement, le cycle en V ne peut pas être suivi à la lettre, les étapes de conception ou test soulevant généralement des problèmes concernant les spécifications.\n",
    "\n",
    "A la place, on aimerait manipuler uniquement des modèles graphiques représentant le système, tels que ceux utilisés dans Simulink. Des blocs peuvent spécificer les différentes parties sur système. La phase de conception implémente ces blocs, d'abord dans l'environnement de modélisation (Simulink), qui permet aussi de faire des simulations afin de s'assurer que les spécifications sont satisfaites. Les blocs correspondants à des éléments physiques doivent modéliser ces derniers adéquatement. Pour les blocs représentant des calculs à effectuer sur un ordinateur ou un microcontrôleur, comme mentionné plus haut, il est possible de directement générer du code source dans un language compilé, typiquement en C ou C++, qui implémente l'algorithme du bloc. Ainsi, idéalement on ne travaillerait quasiment qu'avec des modèles graphiques de haut niveau. Voici un exemple de modèle Simulink pour le système électrique d'un avion"
   ]
  },
  {
   "cell_type": "markdown",
   "metadata": {},
   "source": [
    "![](power_aircraft_distribution_01.png)"
   ]
  },
  {
   "cell_type": "markdown",
   "metadata": {},
   "source": [
    "Simulink et ses extensions est un outil complexe. Dans ce cours, on l'utilisera de façon assez élémentaire à des fins de simulation. Le site internet de MathWorks offre de nombreux tutoriels pour maîtriser des aspects plus avancés de développement de modèle, génération de code, etc. Vous pouvez aussi obtenir une liste de démos depuis Matlab"
   ]
  },
  {
   "cell_type": "code",
   "execution_count": 1,
   "metadata": {
    "collapsed": true
   },
   "outputs": [],
   "source": [
    "demo simulink  % par exemple, Vehicle Electrical and Climate Control Systems\n",
    "demo simulink 'simulink control design'"
   ]
  },
  {
   "cell_type": "markdown",
   "metadata": {},
   "source": [
    "# Références"
   ]
  },
  {
   "cell_type": "markdown",
   "metadata": {},
   "source": [
    "* [Control Tutorials for MATLAB and Simulink](http://ctms.engin.umich.edu/CTMS/index.php?aux=Home)\n",
    "* [Writing Fast MATLAB Code](http://www.mathworks.com/matlabcentral/fileexchange/5685-writing-fast-matlab-code)"
   ]
  }
 ],
 "metadata": {
  "kernelspec": {
   "display_name": "Matlab",
   "language": "matlab",
   "name": "matlab_kernel"
  },
  "language_info": {
   "codemirror_mode": "Octave",
   "file_extension": ".m",
   "help_links": [
    {
     "text": "MetaKernel Magics",
     "url": "https://github.com/calysto/metakernel/blob/master/metakernel/magics/README.md"
    }
   ],
   "mimetype": "text/x-matlab",
   "name": "octave"
  }
 },
 "nbformat": 4,
 "nbformat_minor": 0
}
